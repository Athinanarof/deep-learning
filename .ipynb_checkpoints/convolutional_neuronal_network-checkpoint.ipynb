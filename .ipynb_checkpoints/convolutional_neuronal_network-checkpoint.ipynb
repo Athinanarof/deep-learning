{
 "cells": [
  {
   "cell_type": "markdown",
   "metadata": {
    "id": "OwwGfP3RzR2E"
   },
   "source": [
    "### Importing the libraries\n",
    "\n"
   ]
  },
  {
   "cell_type": "code",
   "execution_count": 2,
   "metadata": {
    "id": "-3974TUOzE5k"
   },
   "outputs": [],
   "source": [
    "import tensorflow as tf\n",
    "from keras.preprocessing.image import ImageDataGenerator"
   ]
  },
  {
   "cell_type": "code",
   "execution_count": 3,
   "metadata": {
    "colab": {
     "base_uri": "https://localhost:8080/",
     "height": 35
    },
    "id": "z8smyhl-za7V",
    "outputId": "ba949fad-4e57-4ce6-ce07-1f43b538b335"
   },
   "outputs": [
    {
     "data": {
      "text/plain": [
       "'2.10.0'"
      ]
     },
     "execution_count": 3,
     "metadata": {},
     "output_type": "execute_result"
    }
   ],
   "source": [
    "tf.__version__"
   ]
  },
  {
   "cell_type": "markdown",
   "metadata": {
    "id": "8OoQcNiBznYi"
   },
   "source": [
    "### Data Processing"
   ]
  },
  {
   "cell_type": "markdown",
   "metadata": {},
   "source": [
    "### Preprocessing the Training set"
   ]
  },
  {
   "cell_type": "code",
   "execution_count": 4,
   "metadata": {},
   "outputs": [
    {
     "name": "stdout",
     "output_type": "stream",
     "text": [
      "Found 8000 images belonging to 2 classes.\n"
     ]
    }
   ],
   "source": [
    "## image augmentation\n",
    "train_datagen = ImageDataGenerator(\n",
    "        rescale=1./255,\n",
    "        shear_range=0.2,\n",
    "        zoom_range=0.2,\n",
    "        horizontal_flip=True)\n",
    "\n",
    "training_set = train_datagen.flow_from_directory(\n",
    "        'C:\\\\Users\\\\arace\\\\Documents\\\\NN Course\\\\jupyter notebook\\\\dataset\\\\training_set',\n",
    "        target_size=(64, 64),\n",
    "        batch_size=32,\n",
    "        class_mode='binary')"
   ]
  },
  {
   "cell_type": "markdown",
   "metadata": {},
   "source": [
    "### Preprocessing the Training set"
   ]
  },
  {
   "cell_type": "code",
   "execution_count": 5,
   "metadata": {},
   "outputs": [
    {
     "name": "stdout",
     "output_type": "stream",
     "text": [
      "Found 2000 images belonging to 2 classes.\n"
     ]
    }
   ],
   "source": [
    "test_datagen = ImageDataGenerator(rescale=1./255)\n",
    "\n",
    "## no transformation applied just feature scaling\n",
    "test_set = test_datagen.flow_from_directory(\n",
    "        'C:\\\\Users\\\\arace\\\\Documents\\\\NN Course\\\\jupyter notebook\\\\dataset\\\\test_set',\n",
    "        target_size=(64, 64),\n",
    "        batch_size=32,\n",
    "        class_mode='binary')"
   ]
  },
  {
   "cell_type": "markdown",
   "metadata": {},
   "source": [
    "### Initialising CNN"
   ]
  },
  {
   "cell_type": "code",
   "execution_count": 6,
   "metadata": {},
   "outputs": [],
   "source": [
    "cnn = tf.keras.models.Sequential()"
   ]
  },
  {
   "cell_type": "markdown",
   "metadata": {},
   "source": [
    "### Step 1 Convolution\n"
   ]
  },
  {
   "cell_type": "code",
   "execution_count": 7,
   "metadata": {},
   "outputs": [],
   "source": [
    "## 32 is a typical number \n",
    "## input shape, third parameter is 3 because is a color image\n",
    "cnn.add(tf.keras.layers.Conv2D(filters=32, kernel_size=3, activation='relu', input_shape=[64, 64, 3]))"
   ]
  },
  {
   "cell_type": "markdown",
   "metadata": {},
   "source": [
    "### Step 2 Pooling"
   ]
  },
  {
   "cell_type": "code",
   "execution_count": 8,
   "metadata": {},
   "outputs": [],
   "source": [
    "cnn.add(tf.keras.layers.MaxPool2D(pool_size=2,strides=2))"
   ]
  },
  {
   "cell_type": "markdown",
   "metadata": {},
   "source": [
    "### Add a second convolutional layer"
   ]
  },
  {
   "cell_type": "code",
   "execution_count": 9,
   "metadata": {},
   "outputs": [],
   "source": [
    "## second cvn doesn't need the input_shape to connect with\n",
    "cnn.add(tf.keras.layers.Conv2D(filters=32, kernel_size=3, activation='relu'))\n",
    "cnn.add(tf.keras.layers.MaxPool2D(pool_size=2,strides=2))"
   ]
  },
  {
   "cell_type": "markdown",
   "metadata": {},
   "source": [
    "### Step 3 - Flattening"
   ]
  },
  {
   "cell_type": "code",
   "execution_count": 10,
   "metadata": {},
   "outputs": [],
   "source": [
    "## we are gonna flatten into one dimmensional vector\n",
    "cnn.add(tf.keras.layers.Flatten())"
   ]
  },
  {
   "cell_type": "markdown",
   "metadata": {},
   "source": [
    "### Step 4 - Full Connection\n"
   ]
  },
  {
   "cell_type": "code",
   "execution_count": 11,
   "metadata": {},
   "outputs": [],
   "source": [
    "cnn.add(tf.keras.layers.Dense(units=128, activation='relu'))"
   ]
  },
  {
   "cell_type": "markdown",
   "metadata": {},
   "source": [
    "### Step 5 - Output Layer\n"
   ]
  },
  {
   "cell_type": "code",
   "execution_count": 12,
   "metadata": {},
   "outputs": [],
   "source": [
    "cnn.add(tf.keras.layers.Dense(units=1, activation='sigmoid')) ## biinary classification -> multiclass -> softmax"
   ]
  },
  {
   "cell_type": "markdown",
   "metadata": {},
   "source": [
    "### Compiling the CNN \n"
   ]
  },
  {
   "cell_type": "code",
   "execution_count": 13,
   "metadata": {},
   "outputs": [],
   "source": [
    "## computer vision\n",
    "cnn.compile(optimizer='adam', loss='binary_crossentropy', metrics=['accuracy'])"
   ]
  },
  {
   "cell_type": "code",
   "execution_count": 14,
   "metadata": {},
   "outputs": [
    {
     "name": "stdout",
     "output_type": "stream",
     "text": [
      "Requirement already satisfied: Image in c:\\users\\arace\\miniconda3\\envs\\tf\\lib\\site-packages (1.5.33)\n",
      "Requirement already satisfied: pillow in c:\\users\\arace\\miniconda3\\envs\\tf\\lib\\site-packages (from Image) (9.5.0)\n",
      "Requirement already satisfied: six in c:\\users\\arace\\miniconda3\\envs\\tf\\lib\\site-packages (from Image) (1.16.0)\n",
      "Requirement already satisfied: django in c:\\users\\arace\\miniconda3\\envs\\tf\\lib\\site-packages (from Image) (4.2)\n",
      "Requirement already satisfied: tzdata in c:\\users\\arace\\miniconda3\\envs\\tf\\lib\\site-packages (from django->Image) (2023.3)\n",
      "Requirement already satisfied: sqlparse>=0.3.1 in c:\\users\\arace\\miniconda3\\envs\\tf\\lib\\site-packages (from django->Image) (0.4.3)\n",
      "Requirement already satisfied: asgiref<4,>=3.6.0 in c:\\users\\arace\\miniconda3\\envs\\tf\\lib\\site-packages (from django->Image) (3.6.0)\n",
      "Note: you may need to restart the kernel to use updated packages.\n"
     ]
    }
   ],
   "source": [
    "pip install Image"
   ]
  },
  {
   "cell_type": "code",
   "execution_count": 15,
   "metadata": {},
   "outputs": [
    {
     "name": "stdout",
     "output_type": "stream",
     "text": [
      "Epoch 1/25\n",
      "250/250 [==============================] - 169s 649ms/step - loss: 0.6621 - accuracy: 0.5960 - val_loss: 0.6325 - val_accuracy: 0.6350\n",
      "Epoch 2/25\n",
      "250/250 [==============================] - 24s 95ms/step - loss: 0.5959 - accuracy: 0.6855 - val_loss: 0.5642 - val_accuracy: 0.7055\n",
      "Epoch 3/25\n",
      "250/250 [==============================] - 21s 83ms/step - loss: 0.5390 - accuracy: 0.7287 - val_loss: 0.5537 - val_accuracy: 0.7390\n",
      "Epoch 4/25\n",
      "250/250 [==============================] - 19s 77ms/step - loss: 0.5185 - accuracy: 0.7410 - val_loss: 0.4984 - val_accuracy: 0.7570\n",
      "Epoch 5/25\n",
      "250/250 [==============================] - 21s 82ms/step - loss: 0.4929 - accuracy: 0.7601 - val_loss: 0.4926 - val_accuracy: 0.7695\n",
      "Epoch 6/25\n",
      "250/250 [==============================] - 22s 87ms/step - loss: 0.4706 - accuracy: 0.7768 - val_loss: 0.4684 - val_accuracy: 0.7745\n",
      "Epoch 7/25\n",
      "250/250 [==============================] - 22s 88ms/step - loss: 0.4524 - accuracy: 0.7856 - val_loss: 0.4661 - val_accuracy: 0.7875\n",
      "Epoch 8/25\n",
      "250/250 [==============================] - 22s 86ms/step - loss: 0.4344 - accuracy: 0.7993 - val_loss: 0.4679 - val_accuracy: 0.7785\n",
      "Epoch 9/25\n",
      "250/250 [==============================] - 22s 87ms/step - loss: 0.4267 - accuracy: 0.8000 - val_loss: 0.4600 - val_accuracy: 0.7835\n",
      "Epoch 10/25\n",
      "250/250 [==============================] - 21s 84ms/step - loss: 0.3990 - accuracy: 0.8190 - val_loss: 0.4521 - val_accuracy: 0.7910\n",
      "Epoch 11/25\n",
      "250/250 [==============================] - 19s 75ms/step - loss: 0.3920 - accuracy: 0.8209 - val_loss: 0.4582 - val_accuracy: 0.7965\n",
      "Epoch 12/25\n",
      "250/250 [==============================] - 18s 72ms/step - loss: 0.3858 - accuracy: 0.8200 - val_loss: 0.4338 - val_accuracy: 0.8055\n",
      "Epoch 13/25\n",
      "250/250 [==============================] - 20s 80ms/step - loss: 0.3715 - accuracy: 0.8306 - val_loss: 0.4815 - val_accuracy: 0.7805\n",
      "Epoch 14/25\n",
      "250/250 [==============================] - 20s 80ms/step - loss: 0.3676 - accuracy: 0.8329 - val_loss: 0.4637 - val_accuracy: 0.7935\n",
      "Epoch 15/25\n",
      "250/250 [==============================] - 22s 89ms/step - loss: 0.3469 - accuracy: 0.8469 - val_loss: 0.4946 - val_accuracy: 0.8040\n",
      "Epoch 16/25\n",
      "250/250 [==============================] - 21s 84ms/step - loss: 0.3392 - accuracy: 0.8491 - val_loss: 0.4566 - val_accuracy: 0.8025\n",
      "Epoch 17/25\n",
      "250/250 [==============================] - 20s 80ms/step - loss: 0.3223 - accuracy: 0.8606 - val_loss: 0.4704 - val_accuracy: 0.8125\n",
      "Epoch 18/25\n",
      "250/250 [==============================] - 22s 88ms/step - loss: 0.3061 - accuracy: 0.8664 - val_loss: 0.4927 - val_accuracy: 0.8055\n",
      "Epoch 19/25\n",
      "250/250 [==============================] - 20s 80ms/step - loss: 0.2981 - accuracy: 0.8739 - val_loss: 0.4925 - val_accuracy: 0.8010\n",
      "Epoch 20/25\n",
      "250/250 [==============================] - 22s 87ms/step - loss: 0.2892 - accuracy: 0.8759 - val_loss: 0.4815 - val_accuracy: 0.8075\n",
      "Epoch 21/25\n",
      "250/250 [==============================] - 19s 76ms/step - loss: 0.2904 - accuracy: 0.8766 - val_loss: 0.5487 - val_accuracy: 0.7910\n",
      "Epoch 22/25\n",
      "250/250 [==============================] - 23s 93ms/step - loss: 0.2758 - accuracy: 0.8815 - val_loss: 0.4991 - val_accuracy: 0.8025\n",
      "Epoch 23/25\n",
      "250/250 [==============================] - 22s 87ms/step - loss: 0.2616 - accuracy: 0.8903 - val_loss: 0.5580 - val_accuracy: 0.7910\n",
      "Epoch 24/25\n",
      "250/250 [==============================] - 23s 93ms/step - loss: 0.2488 - accuracy: 0.8949 - val_loss: 0.5014 - val_accuracy: 0.7955\n",
      "Epoch 25/25\n",
      "250/250 [==============================] - 22s 88ms/step - loss: 0.2363 - accuracy: 0.9032 - val_loss: 0.4969 - val_accuracy: 0.8110\n"
     ]
    },
    {
     "data": {
      "text/plain": [
       "<keras.callbacks.History at 0x25f8b711640>"
      ]
     },
     "execution_count": 15,
     "metadata": {},
     "output_type": "execute_result"
    }
   ],
   "source": [
    "## training and evaluating at the same time\n",
    "from PIL import Image\n",
    "\n",
    "cnn.fit(x = training_set, validation_data = test_set, epochs = 25)\n"
   ]
  },
  {
   "cell_type": "markdown",
   "metadata": {},
   "source": [
    "### Making a single prediction"
   ]
  },
  {
   "cell_type": "code",
   "execution_count": 34,
   "metadata": {},
   "outputs": [
    {
     "name": "stdout",
     "output_type": "stream",
     "text": [
      "1/1 [==============================] - 0s 20ms/step\n"
     ]
    }
   ],
   "source": [
    "import numpy as np\n",
    "from keras.preprocessing import image\n",
    "## https://keras.io/api/preprocessing/image/\n",
    "test_image = tf.keras.preprocessing.image.load_img(\n",
    "    'C:\\\\Users\\\\arace\\\\Downloads\\\\dog.jpg', target_size=(64, 64))\n",
    "test_image = tf.keras.preprocessing.image.img_to_array(test_image)\n",
    "test_image = np.expand_dims(test_image, axis=0)\n",
    "result = cnn.predict(test_image/255.0)\n",
    "training_set.class_indices\n",
    "## batch [single element of the batch]\n",
    "if result[0][0] > 0.5:\n",
    "    prediction = 'dog'\n",
    "else: \n",
    "    prediction = 'cat'"
   ]
  },
  {
   "cell_type": "code",
   "execution_count": 35,
   "metadata": {},
   "outputs": [
    {
     "name": "stdout",
     "output_type": "stream",
     "text": [
      "dog\n"
     ]
    }
   ],
   "source": [
    "print(prediction)"
   ]
  },
  {
   "cell_type": "code",
   "execution_count": null,
   "metadata": {},
   "outputs": [],
   "source": []
  }
 ],
 "metadata": {
  "colab": {
   "provenance": []
  },
  "kernelspec": {
   "display_name": "Python 3 (ipykernel)",
   "language": "python",
   "name": "python3"
  },
  "language_info": {
   "codemirror_mode": {
    "name": "ipython",
    "version": 3
   },
   "file_extension": ".py",
   "mimetype": "text/x-python",
   "name": "python",
   "nbconvert_exporter": "python",
   "pygments_lexer": "ipython3",
   "version": "3.9.15"
  }
 },
 "nbformat": 4,
 "nbformat_minor": 1
}
