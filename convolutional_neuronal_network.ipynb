{
 "cells": [
  {
   "cell_type": "markdown",
   "metadata": {
    "id": "OwwGfP3RzR2E"
   },
   "source": [
    "### Importing the libraries\n",
    "\n"
   ]
  },
  {
   "cell_type": "code",
   "execution_count": 1,
   "metadata": {
    "id": "-3974TUOzE5k"
   },
   "outputs": [],
   "source": [
    "import tensorflow as tf\n",
    "from keras.preprocessing.image import ImageDataGenerator"
   ]
  },
  {
   "cell_type": "code",
   "execution_count": 2,
   "metadata": {
    "colab": {
     "base_uri": "https://localhost:8080/",
     "height": 35
    },
    "id": "z8smyhl-za7V",
    "outputId": "ba949fad-4e57-4ce6-ce07-1f43b538b335"
   },
   "outputs": [
    {
     "data": {
      "text/plain": [
       "'2.10.0'"
      ]
     },
     "execution_count": 2,
     "metadata": {},
     "output_type": "execute_result"
    }
   ],
   "source": [
    "tf.__version__"
   ]
  },
  {
   "cell_type": "markdown",
   "metadata": {
    "id": "8OoQcNiBznYi"
   },
   "source": [
    "### Data Processing"
   ]
  },
  {
   "cell_type": "markdown",
   "metadata": {},
   "source": [
    "### Preprocessing the Training set"
   ]
  },
  {
   "cell_type": "code",
   "execution_count": 3,
   "metadata": {},
   "outputs": [
    {
     "name": "stdout",
     "output_type": "stream",
     "text": [
      "Found 8000 images belonging to 2 classes.\n"
     ]
    }
   ],
   "source": [
    "## image augmentation\n",
    "train_datagen = ImageDataGenerator(\n",
    "        rescale=1./255,\n",
    "        shear_range=0.2,\n",
    "        zoom_range=0.2,\n",
    "        horizontal_flip=True)\n",
    "\n",
    "training_set = train_datagen.flow_from_directory(\n",
    "        'C:\\\\Users\\\\arace\\\\Documents\\\\NN Course\\\\jupyter notebook\\\\dataset\\\\training_set',\n",
    "        target_size=(64, 64),\n",
    "        batch_size=32,\n",
    "        class_mode='binary')"
   ]
  },
  {
   "cell_type": "markdown",
   "metadata": {},
   "source": [
    "### Preprocessing the Training set"
   ]
  },
  {
   "cell_type": "code",
   "execution_count": 4,
   "metadata": {},
   "outputs": [
    {
     "name": "stdout",
     "output_type": "stream",
     "text": [
      "Found 2000 images belonging to 2 classes.\n"
     ]
    }
   ],
   "source": [
    "test_datagen = ImageDataGenerator(rescale=1./255)\n",
    "\n",
    "## no transformation applied just feature scaling\n",
    "test_set = test_datagen.flow_from_directory(\n",
    "        'C:\\\\Users\\\\arace\\\\Documents\\\\NN Course\\\\jupyter notebook\\\\dataset\\\\test_set',\n",
    "        target_size=(64, 64),\n",
    "        batch_size=32,\n",
    "        class_mode='binary')"
   ]
  },
  {
   "cell_type": "markdown",
   "metadata": {},
   "source": [
    "### Initialising CNN"
   ]
  },
  {
   "cell_type": "code",
   "execution_count": 5,
   "metadata": {},
   "outputs": [],
   "source": [
    "cnn = tf.keras.models.Sequential()"
   ]
  },
  {
   "cell_type": "markdown",
   "metadata": {},
   "source": [
    "### Step 1 Convolution\n"
   ]
  },
  {
   "cell_type": "code",
   "execution_count": 6,
   "metadata": {},
   "outputs": [],
   "source": [
    "## 32 is a typical number \n",
    "## input shape, third parameter is 3 because is a color image\n",
    "cnn.add(tf.keras.layers.Conv2D(filters=32, kernel_size=3, activation='relu', input_shape=[64, 64, 3]))"
   ]
  },
  {
   "cell_type": "markdown",
   "metadata": {},
   "source": [
    "### Step 2 Pooling"
   ]
  },
  {
   "cell_type": "code",
   "execution_count": 7,
   "metadata": {},
   "outputs": [],
   "source": [
    "cnn.add(tf.keras.layers.MaxPool2D(pool_size=2,strides=2))"
   ]
  },
  {
   "cell_type": "markdown",
   "metadata": {},
   "source": [
    "### Add a second convolutional layer"
   ]
  },
  {
   "cell_type": "code",
   "execution_count": 8,
   "metadata": {},
   "outputs": [],
   "source": [
    "## second cvn doesn't need the input_shape to connect with\n",
    "cnn.add(tf.keras.layers.Conv2D(filters=32, kernel_size=3, activation='relu'))\n",
    "cnn.add(tf.keras.layers.MaxPool2D(pool_size=2,strides=2))"
   ]
  },
  {
   "cell_type": "markdown",
   "metadata": {},
   "source": [
    "### Step 3 - Flattening"
   ]
  },
  {
   "cell_type": "code",
   "execution_count": 9,
   "metadata": {},
   "outputs": [],
   "source": [
    "## we are gonna flatten into one dimmensional vector\n",
    "cnn.add(tf.keras.layers.Flatten())"
   ]
  },
  {
   "cell_type": "markdown",
   "metadata": {},
   "source": [
    "### Step 4 - Full Connection\n"
   ]
  },
  {
   "cell_type": "code",
   "execution_count": 10,
   "metadata": {},
   "outputs": [],
   "source": [
    "cnn.add(tf.keras.layers.Dense(units=128, activation='relu'))"
   ]
  },
  {
   "cell_type": "markdown",
   "metadata": {},
   "source": [
    "### Step 5 - Output Layer\n"
   ]
  },
  {
   "cell_type": "code",
   "execution_count": 11,
   "metadata": {},
   "outputs": [],
   "source": [
    "cnn.add(tf.keras.layers.Dense(units=1, activation='sigmoid')) ## biinary classification -> multiclass -> softmax"
   ]
  },
  {
   "cell_type": "markdown",
   "metadata": {},
   "source": [
    "### Compiling the CNN \n"
   ]
  },
  {
   "cell_type": "code",
   "execution_count": 12,
   "metadata": {},
   "outputs": [],
   "source": [
    "## computer vision\n",
    "cnn.compile(optimizer='adam', loss='binary_crossentropy', metrics=['accuracy'])"
   ]
  },
  {
   "cell_type": "code",
   "execution_count": 13,
   "metadata": {},
   "outputs": [
    {
     "name": "stdout",
     "output_type": "stream",
     "text": [
      "Requirement already satisfied: Image in c:\\users\\arace\\miniconda3\\envs\\tf\\lib\\site-packages (1.5.33)Note: you may need to restart the kernel to use updated packages.\n",
      "\n",
      "Requirement already satisfied: pillow in c:\\users\\arace\\miniconda3\\envs\\tf\\lib\\site-packages (from Image) (9.5.0)\n",
      "Requirement already satisfied: django in c:\\users\\arace\\miniconda3\\envs\\tf\\lib\\site-packages (from Image) (4.2)\n",
      "Requirement already satisfied: six in c:\\users\\arace\\miniconda3\\envs\\tf\\lib\\site-packages (from Image) (1.16.0)\n",
      "Requirement already satisfied: sqlparse>=0.3.1 in c:\\users\\arace\\miniconda3\\envs\\tf\\lib\\site-packages (from django->Image) (0.4.3)\n",
      "Requirement already satisfied: tzdata in c:\\users\\arace\\miniconda3\\envs\\tf\\lib\\site-packages (from django->Image) (2023.3)\n",
      "Requirement already satisfied: asgiref<4,>=3.6.0 in c:\\users\\arace\\miniconda3\\envs\\tf\\lib\\site-packages (from django->Image) (3.6.0)\n"
     ]
    }
   ],
   "source": [
    "pip install Image"
   ]
  },
  {
   "cell_type": "code",
   "execution_count": 14,
   "metadata": {},
   "outputs": [
    {
     "name": "stdout",
     "output_type": "stream",
     "text": [
      "Epoch 1/25\n",
      "250/250 [==============================] - 165s 623ms/step - loss: 0.6610 - accuracy: 0.5964 - val_loss: 0.6367 - val_accuracy: 0.6475\n",
      "Epoch 2/25\n",
      "250/250 [==============================] - 34s 136ms/step - loss: 0.5899 - accuracy: 0.6829 - val_loss: 0.5720 - val_accuracy: 0.6985\n",
      "Epoch 3/25\n",
      "250/250 [==============================] - 36s 142ms/step - loss: 0.5446 - accuracy: 0.7260 - val_loss: 0.5207 - val_accuracy: 0.7415\n",
      "Epoch 4/25\n",
      "250/250 [==============================] - 36s 145ms/step - loss: 0.5169 - accuracy: 0.7469 - val_loss: 0.5212 - val_accuracy: 0.7540\n",
      "Epoch 5/25\n",
      "250/250 [==============================] - 34s 136ms/step - loss: 0.5019 - accuracy: 0.7533 - val_loss: 0.5269 - val_accuracy: 0.7435\n",
      "Epoch 6/25\n",
      "250/250 [==============================] - 37s 150ms/step - loss: 0.4833 - accuracy: 0.7692 - val_loss: 0.4869 - val_accuracy: 0.7650\n",
      "Epoch 7/25\n",
      "250/250 [==============================] - 40s 158ms/step - loss: 0.4704 - accuracy: 0.7736 - val_loss: 0.4719 - val_accuracy: 0.7825\n",
      "Epoch 8/25\n",
      "250/250 [==============================] - 34s 134ms/step - loss: 0.4579 - accuracy: 0.7820 - val_loss: 0.4648 - val_accuracy: 0.7850\n",
      "Epoch 9/25\n",
      "250/250 [==============================] - 37s 147ms/step - loss: 0.4452 - accuracy: 0.7896 - val_loss: 0.4669 - val_accuracy: 0.7830\n",
      "Epoch 10/25\n",
      "250/250 [==============================] - 37s 150ms/step - loss: 0.4383 - accuracy: 0.7937 - val_loss: 0.5077 - val_accuracy: 0.7615\n",
      "Epoch 11/25\n",
      "250/250 [==============================] - 33s 133ms/step - loss: 0.4302 - accuracy: 0.7981 - val_loss: 0.4694 - val_accuracy: 0.7950\n",
      "Epoch 12/25\n",
      "250/250 [==============================] - 37s 147ms/step - loss: 0.4168 - accuracy: 0.8069 - val_loss: 0.4377 - val_accuracy: 0.8130\n",
      "Epoch 13/25\n",
      "250/250 [==============================] - 32s 127ms/step - loss: 0.4071 - accuracy: 0.8125 - val_loss: 0.4435 - val_accuracy: 0.8030\n",
      "Epoch 14/25\n",
      "250/250 [==============================] - 40s 160ms/step - loss: 0.3991 - accuracy: 0.8179 - val_loss: 0.4559 - val_accuracy: 0.7935\n",
      "Epoch 15/25\n",
      "250/250 [==============================] - 37s 150ms/step - loss: 0.3990 - accuracy: 0.8180 - val_loss: 0.5011 - val_accuracy: 0.7785\n",
      "Epoch 16/25\n",
      "250/250 [==============================] - 35s 141ms/step - loss: 0.3874 - accuracy: 0.8231 - val_loss: 0.4326 - val_accuracy: 0.8235\n",
      "Epoch 17/25\n",
      "250/250 [==============================] - 34s 134ms/step - loss: 0.3726 - accuracy: 0.8326 - val_loss: 0.4367 - val_accuracy: 0.8120\n",
      "Epoch 18/25\n",
      "250/250 [==============================] - 34s 136ms/step - loss: 0.3763 - accuracy: 0.8291 - val_loss: 0.4458 - val_accuracy: 0.8145\n",
      "Epoch 19/25\n",
      "250/250 [==============================] - 35s 140ms/step - loss: 0.3653 - accuracy: 0.8351 - val_loss: 0.4609 - val_accuracy: 0.8075\n",
      "Epoch 20/25\n",
      "250/250 [==============================] - 38s 150ms/step - loss: 0.3529 - accuracy: 0.8421 - val_loss: 0.4578 - val_accuracy: 0.8060\n",
      "Epoch 21/25\n",
      "250/250 [==============================] - 36s 146ms/step - loss: 0.3416 - accuracy: 0.8486 - val_loss: 0.4759 - val_accuracy: 0.8005\n",
      "Epoch 22/25\n",
      "250/250 [==============================] - 37s 147ms/step - loss: 0.3453 - accuracy: 0.8435 - val_loss: 0.4377 - val_accuracy: 0.8175\n",
      "Epoch 23/25\n",
      "250/250 [==============================] - 33s 131ms/step - loss: 0.3321 - accuracy: 0.8514 - val_loss: 0.4682 - val_accuracy: 0.7985\n",
      "Epoch 24/25\n",
      "250/250 [==============================] - 37s 150ms/step - loss: 0.3292 - accuracy: 0.8528 - val_loss: 0.4610 - val_accuracy: 0.8050\n",
      "Epoch 25/25\n",
      "250/250 [==============================] - 35s 140ms/step - loss: 0.3193 - accuracy: 0.8634 - val_loss: 0.4538 - val_accuracy: 0.8125\n"
     ]
    },
    {
     "data": {
      "text/plain": [
       "<keras.callbacks.History at 0x254b236d3a0>"
      ]
     },
     "execution_count": 14,
     "metadata": {},
     "output_type": "execute_result"
    }
   ],
   "source": [
    "## training and evaluating at the same time\n",
    "from PIL import Image\n",
    "\n",
    "cnn.fit(x = training_set, validation_data = test_set, epochs = 25)\n"
   ]
  },
  {
   "cell_type": "markdown",
   "metadata": {},
   "source": [
    "### Making a single prediction"
   ]
  },
  {
   "cell_type": "code",
   "execution_count": 19,
   "metadata": {},
   "outputs": [
    {
     "name": "stdout",
     "output_type": "stream",
     "text": [
      "1/1 [==============================] - 0s 39ms/step\n"
     ]
    }
   ],
   "source": [
    "import numpy as np\n",
    "from keras.preprocessing import image\n",
    "## https://keras.io/api/preprocessing/image/\n",
    "test_image = tf.keras.preprocessing.image.load_img(\n",
    "    'C:\\\\Users\\\\arace\\\\Downloads\\\\cat.4538.jpg', target_size=(64, 64))\n",
    "test_image = tf.keras.preprocessing.image.img_to_array(test_image)\n",
    "test_image = np.expand_dims(test_image, axis=0)\n",
    "result = cnn.predict(test_image/255.0)\n",
    "training_set.class_indices\n",
    "## batch [single element of the batch]\n",
    "if result[0][0] > 0.5:\n",
    "    prediction = 'dog'\n",
    "else: \n",
    "    prediction = 'cat'"
   ]
  },
  {
   "cell_type": "code",
   "execution_count": 20,
   "metadata": {},
   "outputs": [
    {
     "name": "stdout",
     "output_type": "stream",
     "text": [
      "cat\n"
     ]
    }
   ],
   "source": [
    "print(prediction)"
   ]
  },
  {
   "cell_type": "code",
   "execution_count": null,
   "metadata": {},
   "outputs": [],
   "source": []
  }
 ],
 "metadata": {
  "colab": {
   "provenance": []
  },
  "kernelspec": {
   "display_name": "Python 3 (ipykernel)",
   "language": "python",
   "name": "python3"
  },
  "language_info": {
   "codemirror_mode": {
    "name": "ipython",
    "version": 3
   },
   "file_extension": ".py",
   "mimetype": "text/x-python",
   "name": "python",
   "nbconvert_exporter": "python",
   "pygments_lexer": "ipython3",
   "version": "3.9.15"
  }
 },
 "nbformat": 4,
 "nbformat_minor": 1
}
